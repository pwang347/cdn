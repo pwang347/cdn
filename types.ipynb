{
 "cells": [
  {
   "cell_type": "code",
   "execution_count": null,
   "metadata": {},
   "outputs": [],
   "source": [
    "# SUPPORTED DTYPES\n",
    "\n",
    "import pandas as pd\n",
    "import numpy as np\n",
    "\n",
    "# NumPy types\n",
    "int32_series = pd.Series(np.arange(0, 10))\n",
    "uint32_series = pd.Series(np.arange(0, 10), dtype=np.uint32)\n",
    "object_series = pd.Series(np.array([\"hello\", \"world\"], dtype=\"object\"))\n",
    "datetime_series = pd.Series(np.append(pd.date_range('2012-1-1', periods=9, freq='D').to_numpy(), [pd.NaT]), dtype=\"datetime64[ns]\")\n",
    "\n",
    "# Pandas exension types\n",
    "## marked as experimental\n",
    "string_series = pd.Series([\"a\", \"b\", \"c\"], dtype=pd.StringDtype())\n",
    "nullable_boolean_series = pd.Series(pd.array([True, False, None], dtype=pd.BooleanDtype()))\n",
    "nullable_int64_series = pd.array([1, 2, None, None, 5, 6, 7, None, 9, 10], dtype=pd.Int64Dtype())\n",
    "nullable_uint64_series = pd.array([1, 2, None, None, 5, 6, 7, None, 9, 10], dtype=pd.UInt64Dtype())\n",
    "\n",
    "df = pd.DataFrame(dict(\n",
    "    datetime64_ns = datetime_series,\n",
    "    int32 = int32_series,\n",
    "    uint32 = uint32_series,\n",
    "    object = object_series,\n",
    "    string = string_series,\n",
    "    boolean = nullable_boolean_series,\n",
    "    Int64 = nullable_int64_series,\n",
    "    UInt64 = nullable_uint64_series\n",
    "))\n",
    "df.info()\n",
    "df"
   ]
  },
  {
   "cell_type": "code",
   "execution_count": null,
   "metadata": {},
   "outputs": [],
   "source": [
    "# UNSUPPORTED DTYPES\n",
    "\n",
    "import pandas as pd\n",
    "import numpy as np\n",
    "\n",
    "# NumPy types\n",
    "object_custom_series = pd.Series(np.array([dict(foo = \"bar\"), [1, 2,  3], (2, 3), pd.NA, lambda x: x, pd, None], dtype=\"object\"))\n",
    "complex_series = pd.Series(np.array([complex(1,2), complex(3,4), complex(5,6)], dtype=\"complex\"))\n",
    "\n",
    "# Pandas exension types\n",
    "datetime_tzd_series = pd.Series(np.append(pd.date_range('2012-1-1', periods=9, freq='D').to_numpy(), [pd.NaT]), dtype=pd.DatetimeTZDtype(tz=\"America/New_York\"))\n",
    "category_series = pd.Categorical([\"a\", \"b\", \"c\", \"a\", \"b\", \"b\", \"c\", \"c\", \"a\", \"b\"])\n",
    "timedelta_series = pd.Series([pd.Timedelta(days=i, hours=i, minutes=i, seconds=i) for i in range(10)])\n",
    "period_d_series = pd.Series(pd.period_range(start='2017-01-01', end='2017-01-10', freq='D'))\n",
    "period_m_series = pd.Series(pd.period_range(start='2017-01-01', end='2017-10-01', freq='M'))\n",
    "arr = np.random.randn(10); arr[2:-2] = np.nan; sparse_float64_series = pd.Series(pd.arrays.SparseArray(arr))\n",
    "arr = np.random.randint(10, size=10); arr[2:-2] = 0; sparse_int32_series = pd.Series(pd.arrays.SparseArray(arr))\n",
    "interval_series = pd.Series(pd.interval_range(start=0, periods=5, freq=1.5))\n",
    "\n",
    "## marked as experimental\n",
    "# None\n",
    "\n",
    "df = pd.DataFrame(dict(\n",
    "    object_custom = object_custom_series,\n",
    "    complex = complex_series,\n",
    "    datetime_tzd = datetime_tzd_series,\n",
    "    category = category_series,\n",
    "    interval = interval_series,\n",
    "    period_d=period_d_series,\n",
    "    period_m=period_m_series,\n",
    "    sparse_float64 = sparse_float64_series,\n",
    "    sparse_int32 = sparse_int32_series,\n",
    "    timedelta64_ns = timedelta_series\n",
    "))\n",
    "df.info()\n",
    "df"
   ]
  }
 ],
 "metadata": {
  "kernelspec": {
   "display_name": "Python 3.8.3 ('base')",
   "language": "python",
   "name": "python3"
  },
  "language_info": {
   "codemirror_mode": {
    "name": "ipython",
    "version": 3
   },
   "file_extension": ".py",
   "mimetype": "text/x-python",
   "name": "python",
   "nbconvert_exporter": "python",
   "pygments_lexer": "ipython3",
   "version": "3.8.3"
  },
  "orig_nbformat": 4,
  "vscode": {
   "interpreter": {
    "hash": "c699e536d8044f4ef7db1082933e3bc5e5fc3128ff2e87f680606f5f675dd42f"
   }
  }
 },
 "nbformat": 4,
 "nbformat_minor": 2
}
